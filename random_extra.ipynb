{
 "cells": [
  {
   "cell_type": "code",
   "execution_count": 1,
   "id": "3265ff76-eb12-4c49-a141-cd2b6810d824",
   "metadata": {},
   "outputs": [],
   "source": [
    "# extra code maybe for later"
   ]
  },
  {
   "cell_type": "code",
   "execution_count": null,
   "id": "c1abddf3-7a53-4d2b-8418-b757564bed9a",
   "metadata": {},
   "outputs": [],
   "source": [
    "# change league to number for usage in ML models later\n",
    "leagues = all_positions.competition_name.unique()\n",
    "leagues_dict = dict(zip(leagues, range(len(leagues))))\n",
    "all_positions[\"league_name_id\"] = all_positions[\"competition_name\"].map(\n",
    "    lambda league: leagues_dict.get(league) if league in leagues_dict else league\n",
    ")\n",
    "\n",
    "# out of sample data\n",
    "leagues = out_sample_player_info.competition_name.unique()\n",
    "leagues_dict = dict(zip(leagues, range(len(leagues))))\n",
    "out_sample_player_info[\"league_name_id\"] = out_sample_player_info[\"competition_name\"].map(\n",
    "    lambda league: leagues_dict.get(league) if league in leagues_dict else league\n",
    ")\n",
    "\n",
    "print(leagues_dict)"
   ]
  },
  {
   "cell_type": "code",
   "execution_count": null,
   "id": "6440773c-b29c-4b58-80bb-3b86dcab8b47",
   "metadata": {},
   "outputs": [],
   "source": [
    "# change country_of_citizenship to number for usage in ML models later\n",
    "nations = all_positions.country_of_citizenship.unique()\n",
    "nations_dict = dict(zip(nations, range(len(nations))))\n",
    "all_positions[\"nation_id\"] = all_positions[\"country_of_citizenship\"].map(\n",
    "    lambda nation: nations_dict.get(nation) if nation in nations_dict else nation\n",
    ")\n",
    "\n",
    "# out of sample data\n",
    "nations = out_sample_player_info.country_of_citizenship.unique()\n",
    "nations_dict = dict(zip(nations, range(len(nations))))\n",
    "out_sample_player_info[\"nation_id\"] = out_sample_player_info[\"country_of_citizenship\"].map(\n",
    "    lambda nation: nations_dict.get(nation) if nation in nations_dict else nation\n",
    ")\n",
    "\n",
    "print(nations_dict)"
   ]
  },
  {
   "cell_type": "code",
   "execution_count": null,
   "id": "f53fc750-cf1a-41a4-9155-69b7ef751d15",
   "metadata": {},
   "outputs": [],
   "source": [
    "# change position to number for usage in ML models later\n",
    "positions = all_positions.position.unique()\n",
    "positions_dict = dict(zip(positions, range(len(positions))))\n",
    "all_positions[\"position_id\"] = all_positions[\"position\"].map(\n",
    "    lambda p: positions_dict.get(p) if p in positions_dict else p\n",
    ")\n",
    "\n",
    "\n",
    "# out of sample data\n",
    "positions = out_sample_player_info.position.unique()\n",
    "positions_dict = dict(zip(positions, range(len(positions))))\n",
    "out_sample_player_info[\"position_id\"] = out_sample_player_info[\"position\"].map(\n",
    "    lambda p: positions_dict.get(p) if p in positions_dict else p\n",
    ")\n",
    "\n",
    "print(positions_dict)"
   ]
  },
  {
   "cell_type": "code",
   "execution_count": null,
   "id": "e4e8f1cd-e7ae-4f22-96c3-65661a291311",
   "metadata": {},
   "outputs": [],
   "source": [
    "## Random Forest Regressor\n",
    "print(\"***Random Forest Regressor with Standardized Inputs***\\n\")\n",
    "rf_models = {}\n",
    "\n",
    "print(\"Using Standardized Variables to Predict Expected Goals of Attackers in the Upcoming Season\\n\")\n",
    "\n",
    "print(\"\"\"Input Variables: \n",
    "    standardized goals, standardized assists, and minutes played from last two seasons\n",
    "    standardized age at the start of the prediction year (2020) and standardized market value\n",
    "\"\"\" )\n",
    "\n",
    "# testing max depth hyperparameter across 10 fold cross validation\n",
    "print(\"Training (Cross Validation): Testing Max Depth Hyperparameter\")\n",
    "for max_depth in range(3, 10):\n",
    "    clf = RandomForestRegressor(max_depth=max_depth, random_state=0)\n",
    "    cv_rf_results = cross_validate(clf, X_train, y_train, cv=10)\n",
    "    test_score = cv_rf_results[\"test_score\"]\n",
    "    rf_models[np.mean(test_score)] = max_depth\n",
    "keylist = list(rf_models.keys())\n",
    "keylist.sort(reverse=True)\n",
    "print(rf_models)\n",
    "\n",
    "# printing results from model with the best hyperparameters\n",
    "format_string = \" * The best model is with a max depth of {} and has an average r^2 across cross validation of {}\"\n",
    "print(format_string.format(rf_models[keylist[0]], keylist[0]))\n",
    "\n",
    "# testing model with test data\n",
    "print(\"\\nTesting\")\n",
    "clf = RandomForestRegressor(max_depth=rf_models[keylist[0]], random_state=0)\n",
    "clf.fit(X_train, y_train)\n",
    "y_pred = clf.predict(X_test)\n",
    "format_string = \" * The best model is with a max depth of {} and has a r^2 on the test data of {}\"\n",
    "print(format_string.format(rf_models[keylist[0]], r2_score(y_test.iloc[:, 0], y_pred)))\n",
    "format_string = \" * The best model is with a max depth of {} and has a RMSE on the test data of {}\"\n",
    "print(format_string.format(rf_models[keylist[0]], math.sqrt(mean_squared_error(y_test.iloc[:, 0], y_pred))))"
   ]
  }
 ],
 "metadata": {
  "kernelspec": {
   "display_name": "Python 3",
   "language": "python",
   "name": "python3"
  },
  "language_info": {
   "codemirror_mode": {
    "name": "ipython",
    "version": 3
   },
   "file_extension": ".py",
   "mimetype": "text/x-python",
   "name": "python",
   "nbconvert_exporter": "python",
   "pygments_lexer": "ipython3",
   "version": "3.8.8"
  }
 },
 "nbformat": 4,
 "nbformat_minor": 5
}
